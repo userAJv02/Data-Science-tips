{
 "cells": [
  {
   "cell_type": "code",
   "execution_count": 50,
   "metadata": {},
   "outputs": [],
   "source": [
    "import pandas as pd\n",
    "import numpy as np"
   ]
  },
  {
   "cell_type": "markdown",
   "metadata": {},
   "source": [
    "## calculando a taxa de retorno simples de um ativo.\n",
    "#### Dessa vez da Protect and Gamble"
   ]
  },
  {
   "cell_type": "code",
   "execution_count": 51,
   "metadata": {},
   "outputs": [],
   "source": [
    "PG = wb.DataReader('PG', data_source='yahoo', start='1995-1-1')"
   ]
  },
  {
   "cell_type": "code",
   "execution_count": 52,
   "metadata": {},
   "outputs": [
    {
     "data": {
      "text/html": [
       "<div>\n",
       "<style scoped>\n",
       "    .dataframe tbody tr th:only-of-type {\n",
       "        vertical-align: middle;\n",
       "    }\n",
       "\n",
       "    .dataframe tbody tr th {\n",
       "        vertical-align: top;\n",
       "    }\n",
       "\n",
       "    .dataframe thead th {\n",
       "        text-align: right;\n",
       "    }\n",
       "</style>\n",
       "<table border=\"1\" class=\"dataframe\">\n",
       "  <thead>\n",
       "    <tr style=\"text-align: right;\">\n",
       "      <th></th>\n",
       "      <th>High</th>\n",
       "      <th>Low</th>\n",
       "      <th>Open</th>\n",
       "      <th>Close</th>\n",
       "      <th>Volume</th>\n",
       "      <th>Adj Close</th>\n",
       "    </tr>\n",
       "    <tr>\n",
       "      <th>Date</th>\n",
       "      <th></th>\n",
       "      <th></th>\n",
       "      <th></th>\n",
       "      <th></th>\n",
       "      <th></th>\n",
       "      <th></th>\n",
       "    </tr>\n",
       "  </thead>\n",
       "  <tbody>\n",
       "    <tr>\n",
       "      <th>1995-01-03</th>\n",
       "      <td>15.625000</td>\n",
       "      <td>15.437500</td>\n",
       "      <td>15.468750</td>\n",
       "      <td>15.593750</td>\n",
       "      <td>3318400.0</td>\n",
       "      <td>6.280613</td>\n",
       "    </tr>\n",
       "    <tr>\n",
       "      <th>1995-01-04</th>\n",
       "      <td>15.656250</td>\n",
       "      <td>15.312500</td>\n",
       "      <td>15.531250</td>\n",
       "      <td>15.468750</td>\n",
       "      <td>2218800.0</td>\n",
       "      <td>6.230266</td>\n",
       "    </tr>\n",
       "    <tr>\n",
       "      <th>1995-01-05</th>\n",
       "      <td>15.437500</td>\n",
       "      <td>15.218750</td>\n",
       "      <td>15.375000</td>\n",
       "      <td>15.250000</td>\n",
       "      <td>2319600.0</td>\n",
       "      <td>6.142162</td>\n",
       "    </tr>\n",
       "    <tr>\n",
       "      <th>1995-01-06</th>\n",
       "      <td>15.406250</td>\n",
       "      <td>15.156250</td>\n",
       "      <td>15.156250</td>\n",
       "      <td>15.281250</td>\n",
       "      <td>3438000.0</td>\n",
       "      <td>6.154748</td>\n",
       "    </tr>\n",
       "    <tr>\n",
       "      <th>1995-01-09</th>\n",
       "      <td>15.406250</td>\n",
       "      <td>15.187500</td>\n",
       "      <td>15.343750</td>\n",
       "      <td>15.218750</td>\n",
       "      <td>1795200.0</td>\n",
       "      <td>6.129573</td>\n",
       "    </tr>\n",
       "    <tr>\n",
       "      <th>...</th>\n",
       "      <td>...</td>\n",
       "      <td>...</td>\n",
       "      <td>...</td>\n",
       "      <td>...</td>\n",
       "      <td>...</td>\n",
       "      <td>...</td>\n",
       "    </tr>\n",
       "    <tr>\n",
       "      <th>2020-07-27</th>\n",
       "      <td>126.639999</td>\n",
       "      <td>125.540001</td>\n",
       "      <td>125.709999</td>\n",
       "      <td>126.320000</td>\n",
       "      <td>6464600.0</td>\n",
       "      <td>126.320000</td>\n",
       "    </tr>\n",
       "    <tr>\n",
       "      <th>2020-07-28</th>\n",
       "      <td>128.460007</td>\n",
       "      <td>126.290001</td>\n",
       "      <td>126.370003</td>\n",
       "      <td>127.879997</td>\n",
       "      <td>7644400.0</td>\n",
       "      <td>127.879997</td>\n",
       "    </tr>\n",
       "    <tr>\n",
       "      <th>2020-07-29</th>\n",
       "      <td>129.240005</td>\n",
       "      <td>127.360001</td>\n",
       "      <td>127.559998</td>\n",
       "      <td>128.309998</td>\n",
       "      <td>6702000.0</td>\n",
       "      <td>128.309998</td>\n",
       "    </tr>\n",
       "    <tr>\n",
       "      <th>2020-07-30</th>\n",
       "      <td>132.029999</td>\n",
       "      <td>129.649994</td>\n",
       "      <td>130.660004</td>\n",
       "      <td>131.419998</td>\n",
       "      <td>10399400.0</td>\n",
       "      <td>131.419998</td>\n",
       "    </tr>\n",
       "    <tr>\n",
       "      <th>2020-07-31</th>\n",
       "      <td>131.199997</td>\n",
       "      <td>129.270004</td>\n",
       "      <td>130.007004</td>\n",
       "      <td>131.119995</td>\n",
       "      <td>6280526.0</td>\n",
       "      <td>131.119995</td>\n",
       "    </tr>\n",
       "  </tbody>\n",
       "</table>\n",
       "<p>6441 rows × 6 columns</p>\n",
       "</div>"
      ],
      "text/plain": [
       "                  High         Low        Open       Close      Volume  \\\n",
       "Date                                                                     \n",
       "1995-01-03   15.625000   15.437500   15.468750   15.593750   3318400.0   \n",
       "1995-01-04   15.656250   15.312500   15.531250   15.468750   2218800.0   \n",
       "1995-01-05   15.437500   15.218750   15.375000   15.250000   2319600.0   \n",
       "1995-01-06   15.406250   15.156250   15.156250   15.281250   3438000.0   \n",
       "1995-01-09   15.406250   15.187500   15.343750   15.218750   1795200.0   \n",
       "...                ...         ...         ...         ...         ...   \n",
       "2020-07-27  126.639999  125.540001  125.709999  126.320000   6464600.0   \n",
       "2020-07-28  128.460007  126.290001  126.370003  127.879997   7644400.0   \n",
       "2020-07-29  129.240005  127.360001  127.559998  128.309998   6702000.0   \n",
       "2020-07-30  132.029999  129.649994  130.660004  131.419998  10399400.0   \n",
       "2020-07-31  131.199997  129.270004  130.007004  131.119995   6280526.0   \n",
       "\n",
       "             Adj Close  \n",
       "Date                    \n",
       "1995-01-03    6.280613  \n",
       "1995-01-04    6.230266  \n",
       "1995-01-05    6.142162  \n",
       "1995-01-06    6.154748  \n",
       "1995-01-09    6.129573  \n",
       "...                ...  \n",
       "2020-07-27  126.320000  \n",
       "2020-07-28  127.879997  \n",
       "2020-07-29  128.309998  \n",
       "2020-07-30  131.419998  \n",
       "2020-07-31  131.119995  \n",
       "\n",
       "[6441 rows x 6 columns]"
      ]
     },
     "execution_count": 52,
     "metadata": {},
     "output_type": "execute_result"
    }
   ],
   "source": [
    "PG"
   ]
  },
  {
   "cell_type": "code",
   "execution_count": 54,
   "metadata": {
    "scrolled": true
   },
   "outputs": [
    {
     "data": {
      "text/plain": [
       "Date\n",
       "1995-01-03         NaN\n",
       "1995-01-04   -0.008016\n",
       "1995-01-05   -0.014141\n",
       "1995-01-06    0.002049\n",
       "1995-01-09   -0.004090\n",
       "                ...   \n",
       "2020-07-27    0.002858\n",
       "2020-07-28    0.012350\n",
       "2020-07-29    0.003363\n",
       "2020-07-30    0.024238\n",
       "2020-07-31   -0.002283\n",
       "Name: RetornoSimples, Length: 6441, dtype: float64"
      ]
     },
     "execution_count": 54,
     "metadata": {},
     "output_type": "execute_result"
    }
   ],
   "source": [
    "PG['RetornoSimples']= (PG['Adj Close']/PG['Adj Close'].shift(1))-1\n",
    "PG['RetornoSimples']"
   ]
  },
  {
   "cell_type": "code",
   "execution_count": 55,
   "metadata": {},
   "outputs": [
    {
     "data": {
      "text/plain": [
       "0.0005754953477237896"
      ]
     },
     "execution_count": 55,
     "metadata": {},
     "output_type": "execute_result"
    }
   ],
   "source": [
    "PG['RetornoSimples'].mean()"
   ]
  },
  {
   "cell_type": "code",
   "execution_count": 64,
   "metadata": {},
   "outputs": [],
   "source": [
    "mediaAnual = PG['RetornoSimples'].mean() * 250"
   ]
  },
  {
   "cell_type": "code",
   "execution_count": 65,
   "metadata": {},
   "outputs": [
    {
     "data": {
      "text/plain": [
       "0.1438738369309474"
      ]
     },
     "execution_count": 65,
     "metadata": {},
     "output_type": "execute_result"
    }
   ],
   "source": [
    "mediaAnual"
   ]
  },
  {
   "cell_type": "code",
   "execution_count": 67,
   "metadata": {},
   "outputs": [
    {
     "data": {
      "text/plain": [
       "'14.387%'"
      ]
     },
     "execution_count": 67,
     "metadata": {},
     "output_type": "execute_result"
    }
   ],
   "source": [
    "str(round(mediaAnual,5)*100)+'%'"
   ]
  },
  {
   "cell_type": "code",
   "execution_count": null,
   "metadata": {},
   "outputs": [],
   "source": []
  }
 ],
 "metadata": {
  "kernelspec": {
   "display_name": "Python 3",
   "language": "python",
   "name": "python3"
  },
  "language_info": {
   "codemirror_mode": {
    "name": "ipython",
    "version": 3
   },
   "file_extension": ".py",
   "mimetype": "text/x-python",
   "name": "python",
   "nbconvert_exporter": "python",
   "pygments_lexer": "ipython3",
   "version": "3.7.6"
  }
 },
 "nbformat": 4,
 "nbformat_minor": 4
}
